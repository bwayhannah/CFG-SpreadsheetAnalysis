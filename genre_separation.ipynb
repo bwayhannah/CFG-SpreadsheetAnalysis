{
 "cells": [
  {
   "cell_type": "code",
   "execution_count": 3,
   "metadata": {},
   "outputs": [
    {
     "name": "stdout",
     "output_type": "stream",
     "text": [
      "0                 Drama\n",
      "1           Crime,Drama\n",
      "2    Action,Crime,Drama\n",
      "3           Crime,Drama\n",
      "4           Crime,Drama\n",
      "Name: genre, dtype: object\n"
     ]
    }
   ],
   "source": [
    "from read_data import read_data\n",
    "import pandas as pd\n",
    "\n",
    "data = read_data('IMDB.csv')\n",
    "\n",
    "df = pd.DataFrame(data).head()\n",
    "\n",
    "print(df['genre'])"
   ]
  }
 ],
 "metadata": {
  "kernelspec": {
   "display_name": "Python 3",
   "language": "python",
   "name": "python3"
  },
  "language_info": {
   "codemirror_mode": {
    "name": "ipython",
    "version": 3
   },
   "file_extension": ".py",
   "mimetype": "text/x-python",
   "name": "python",
   "nbconvert_exporter": "python",
   "pygments_lexer": "ipython3",
   "version": "3.12.2"
  }
 },
 "nbformat": 4,
 "nbformat_minor": 2
}
