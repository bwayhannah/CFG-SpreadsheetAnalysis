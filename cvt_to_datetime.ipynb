{
 "cells": [
  {
   "cell_type": "code",
   "execution_count": 27,
   "metadata": {},
   "outputs": [
    {
     "name": "stdout",
     "output_type": "stream",
     "text": [
      "         date sales expenditure\n",
      "0  2018-01-01  6226        3808\n",
      "1  2018-02-01  1521        3373\n",
      "2  2018-03-01  1842        3965\n",
      "3  2018-04-01  2051        1098\n",
      "4  2018-05-01  1728        3046\n",
      "5  2018-06-01  2138        2258\n",
      "6  2018-07-01  7479        2084\n",
      "7  2018-08-01  4434        2799\n",
      "8  2018-09-01  3615        1649\n",
      "9  2018-10-01  5472        1116\n",
      "10 2018-11-01  7224        1431\n",
      "11 2018-12-01  1812        3532\n"
     ]
    }
   ],
   "source": [
    "from datetime import datetime\n",
    "from read_data import read_data\n",
    "import pandas as pd\n",
    "\n",
    "''' This code converts the columns 'month' and 'year' into a date which can then be used for ordering etc \n",
    "    Each date is give the first of the month since no day is provided '''\n",
    "\n",
    "def convert_dates(file_name):\n",
    "    data = read_data(file_name)\n",
    "    df = pd.DataFrame(data)\n",
    "\n",
    "    dates = []\n",
    "\n",
    "    for index, row in df.iterrows():\n",
    "        year = row['year']\n",
    "        month = row['month']\n",
    "        dates.append(datetime.strptime(f'{year}, {month}, 1', '%Y, %b, %d' ))\n",
    "\n",
    "    df2 = pd.DataFrame(dates, columns=['date'])\n",
    "\n",
    "    df3 = df.drop(columns=['year', 'month'])\n",
    "\n",
    "    df_list = [df2, df3]\n",
    "\n",
    "    final_df = pd.concat(df_list, axis=1)\n",
    "\n",
    "    return final_df\n",
    "    \n",
    "\n",
    "converted = convert_dates('sales.csv')\n",
    "print(converted)"
   ]
  }
 ],
 "metadata": {
  "kernelspec": {
   "display_name": "Python 3",
   "language": "python",
   "name": "python3"
  },
  "language_info": {
   "codemirror_mode": {
    "name": "ipython",
    "version": 3
   },
   "file_extension": ".py",
   "mimetype": "text/x-python",
   "name": "python",
   "nbconvert_exporter": "python",
   "pygments_lexer": "ipython3",
   "version": "3.12.2"
  }
 },
 "nbformat": 4,
 "nbformat_minor": 2
}
