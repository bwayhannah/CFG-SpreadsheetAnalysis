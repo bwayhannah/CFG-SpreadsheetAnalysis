{
 "cells": [
  {
   "cell_type": "code",
   "execution_count": null,
   "metadata": {},
   "outputs": [],
   "source": [
    "from run_min_max import read_data\n",
    "import pandas as pd\n",
    "\n",
    "\n",
    "def avg_values(file_name, heading): #extracts the max values for a column as a new dataframe\n",
    "    data = read_data(file_name)\n",
    "\n",
    "    df = pd.DataFrame(data) \n",
    "    #converts the data into a pandas DataFrame\n",
    "\n",
    "    df2 = []\n",
    "    for index, row in df:\n",
    "        if df[heading] not in df2\n",
    "\n",
    "\n",
    "\n",
    "    # df2 = df[df[heading].values == df[heading].values.max()].reset_index(drop=True)\n",
    "    #makes a new dataframe from df with all of the values equal to the max value and resets the indices\n",
    "\n",
    "    return df2"
   ]
  }
 ],
 "metadata": {
  "language_info": {
   "name": "python"
  }
 },
 "nbformat": 4,
 "nbformat_minor": 2
}
