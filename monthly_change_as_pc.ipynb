{
 "cells": [
  {
   "cell_type": "code",
   "execution_count": 64,
   "metadata": {},
   "outputs": [
    {
     "name": "stdout",
     "output_type": "stream",
     "text": [
      "    year month  sales  expenditure     sales  expenditure\n",
      "0   2018   jan   6226         3808       NaN          NaN\n",
      "1   2018   feb   1521         3373 -0.755702    -0.114233\n",
      "2   2018   mar   1842         3965  0.211045     0.175511\n",
      "3   2018   apr   2051         1098  0.113464    -0.723077\n",
      "4   2018   may   1728         3046 -0.157484     1.774135\n",
      "5   2018   jun   2138         2258  0.237269    -0.258700\n",
      "6   2018   jul   7479         2084  2.498129    -0.077059\n",
      "7   2018   aug   4434         2799 -0.407140     0.343090\n",
      "8   2018   sep   3615         1649 -0.184709    -0.410861\n",
      "9   2018   oct   5472         1116  0.513693    -0.323226\n",
      "10  2018   nov   7224         1431  0.320175     0.282258\n",
      "11  2018   dec   1812         3532 -0.749169     1.468204\n",
      "12  2019   jan   7479         1098  3.127483    -0.689128\n"
     ]
    }
   ],
   "source": [
    "from read_data import read_data\n",
    "import pandas as pd\n",
    "\n",
    "def monthly_change(heading):\n",
    "    data = read_data('sales.csv')\n",
    "    df = pd.DataFrame(data)\n",
    "\n",
    "    # print(df)\n",
    "    df2 = df[heading]\n",
    "    df2 = df2.astype(float).pct_change()\n",
    "\n",
    "\n",
    "    return df, df2\n",
    "\n",
    "df, df2 = monthly_change('sales')\n",
    "df3, df4 = monthly_change('expenditure')\n",
    "frames = [df, df2, df4]\n",
    "result = pd.concat(frames, axis=1)\n",
    "print(result)\n",
    "\n"
   ]
  }
 ],
 "metadata": {
  "kernelspec": {
   "display_name": "Python 3",
   "language": "python",
   "name": "python3"
  },
  "language_info": {
   "codemirror_mode": {
    "name": "ipython",
    "version": 3
   },
   "file_extension": ".py",
   "mimetype": "text/x-python",
   "name": "python",
   "nbconvert_exporter": "python",
   "pygments_lexer": "ipython3",
   "version": "3.12.2"
  }
 },
 "nbformat": 4,
 "nbformat_minor": 2
}
