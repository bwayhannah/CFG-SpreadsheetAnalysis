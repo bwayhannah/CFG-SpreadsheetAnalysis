{
 "cells": [
  {
   "cell_type": "code",
   "execution_count": 1,
   "metadata": {},
   "outputs": [
    {
     "name": "stdout",
     "output_type": "stream",
     "text": [
      "Highest value of expenditure: 3965, corresponding date(s): 'mar 2018'\n",
      "Lowest value of expenditure: 1098, corresponding date(s): 'apr 2018', 'jan 2019'\n",
      "Highest value of sales: 7479, corresponding date(s): 'jul 2018', 'jan 2019'\n",
      "Lowest value of sales: 1521, corresponding date(s): 'feb 2018'\n",
      "    year month sales expenditure  sales % change  expenditure % change\n",
      "0   2018   jan  6226        3808             NaN                   NaN\n",
      "1   2018   feb  1521        3373      -75.570190            -11.423319\n",
      "2   2018   mar  1842        3965       21.104536             17.551141\n",
      "3   2018   apr  2051        1098       11.346363            -72.307692\n",
      "4   2018   may  1728        3046      -15.748415            177.413479\n",
      "5   2018   jun  2138        2258       23.726852            -25.869993\n",
      "6   2018   jul  7479        2084      249.812909             -7.705934\n",
      "7   2018   aug  4434        2799      -40.713999             34.309021\n",
      "8   2018   sep  3615        1649      -18.470907            -41.086102\n",
      "9   2018   oct  5472        1116       51.369295            -32.322620\n",
      "10  2018   nov  7224        1431       32.017544             28.225806\n",
      "11  2018   dec  1812        3532      -74.916944            146.820405\n",
      "12  2019   jan  7479        1098      312.748344            -68.912797\n"
     ]
    }
   ],
   "source": [
    "from read_data import read_data\n",
    "import pandas as pd\n",
    "\n",
    "def monthly_change(heading):\n",
    "    data = read_data('sales.csv')\n",
    "    df = pd.DataFrame(data)\n",
    "    df2 = pd.DataFrame(df[heading].astype(float).pct_change()*100)\n",
    "    df2.rename(columns={heading: heading + ' % change'}, inplace=True)\n",
    "\n",
    "    return df, df2\n",
    "\n",
    "df, df2 = monthly_change('sales')\n",
    "df3, df4 = monthly_change('expenditure')\n",
    "frames = [df, df2, df4]\n",
    "result = pd.concat(frames, axis=1)\n",
    "print(result)\n",
    "\n"
   ]
  }
 ],
 "metadata": {
  "kernelspec": {
   "display_name": "Python 3",
   "language": "python",
   "name": "python3"
  },
  "language_info": {
   "codemirror_mode": {
    "name": "ipython",
    "version": 3
   },
   "file_extension": ".py",
   "mimetype": "text/x-python",
   "name": "python",
   "nbconvert_exporter": "python",
   "pygments_lexer": "ipython3",
   "version": "3.12.2"
  }
 },
 "nbformat": 4,
 "nbformat_minor": 2
}
